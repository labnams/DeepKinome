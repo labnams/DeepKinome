{
 "cells": [
  {
   "cell_type": "code",
   "execution_count": null,
   "metadata": {
    "scrolled": true
   },
   "outputs": [],
   "source": [
    "import pandas as pd\n",
    "from pandas import DataFrame\n",
    "from datetime import datetime\n",
    "import os\n",
    "import sys\n",
    "import numpy as np\n",
    "import seaborn as sns\n",
    "import statistics\n",
    "import random\n",
    "from tqdm.auto import tqdm\n",
    "import matplotlib.pyplot as plt\n",
    "from sklearn.metrics import r2_score, mean_squared_error\n",
    "from scipy.stats import pearsonr\n",
    "\n",
    "os.getcwd()\n",
    "workdir = \"YOUR WORKING Directory\"\n",
    "datadir = workdir + \"Data/\"\n",
    "rawdir = datadir + \"raw_data/\"\n",
    "resultdir = datadir + \"input_result/\"\n",
    "predictiondir = datadir + \"prediction_result/\"\n",
    "modeldir = workdir + \"model/\"\n",
    "\n",
    "today = datetime.today().strftime(\"%Y%m%d\")\n",
    "today"
   ]
  },
  {
   "cell_type": "code",
   "execution_count": null,
   "metadata": {
    "scrolled": true
   },
   "outputs": [],
   "source": [
    "from tensorflow.python.client import device_lib\n",
    "print(device_lib.list_local_devices())"
   ]
  },
  {
   "cell_type": "code",
   "execution_count": null,
   "metadata": {},
   "outputs": [],
   "source": [
    "StartTime1 = datetime.now()\n",
    "print(\"StartTime :\", StartTime1)\n",
    "\n",
    "gpus = tf.config.experimental.list_physical_devices('GPU')\n",
    "if gpus:\n",
    "  try:\n",
    "    # Currently, memory growth needs to be the same across GPUs\n",
    "    for gpu in gpus:\n",
    "      tf.config.experimental.set_memory_growth(gpu, True)\n",
    "    logical_gpus = tf.config.experimental.list_logical_devices('GPU')\n",
    "    print(len(gpus), \"Physical GPUs,\", len(logical_gpus), \"Logical GPUs\")\n",
    "  except RuntimeError as e:\n",
    "    # Memory growth must be set before GPUs have been initialized\n",
    "    print(e)\n",
    "    \n",
    "\n",
    "\n",
    "EndTime1 = datetime.now()\n",
    "print(\"EndTime :\", EndTime1)"
   ]
  },
  {
   "cell_type": "code",
   "execution_count": null,
   "metadata": {},
   "outputs": [],
   "source": [
    "# load whole dataset from npz\n",
    "train_data = np.load(resultdir + 'toy_train.npz')\n",
    "val_data = np.load(resultdir + 'toy_val.npz')\n",
    "test_data = np.load(resultdir + 'toy_test.npz')"
   ]
  },
  {
   "cell_type": "code",
   "execution_count": null,
   "metadata": {},
   "outputs": [],
   "source": [
    "train_data.files, val_data.files, test_data.files"
   ]
  },
  {
   "cell_type": "code",
   "execution_count": null,
   "metadata": {},
   "outputs": [],
   "source": [
    "x_train, y_train = train_data['x'], train_data['y']\n",
    "x_val, y_val = val_data['x'], val_data['y']\n",
    "x_test, y_test = test_data['x'], test_data['y']"
   ]
  },
  {
   "cell_type": "code",
   "execution_count": null,
   "metadata": {},
   "outputs": [],
   "source": [
    "x_train.shape, y_train.shape, x_test.shape, y_test.shape, x_val.shape, y_val.shape"
   ]
  },
  {
   "cell_type": "markdown",
   "metadata": {},
   "source": [
    "# Random forest"
   ]
  },
  {
   "cell_type": "code",
   "execution_count": null,
   "metadata": {},
   "outputs": [],
   "source": [
    "from sklearn.ensemble import RandomForestRegressor\n",
    "\n",
    "rf = RandomForestRegressor(n_estimators = 200\n",
    "                           ,random_state = 15\n",
    "                           , max_depth=30\n",
    "                           , max_features='sqrt'\n",
    "                           , bootstrap=False\n",
    "                           , min_samples_leaf=1\n",
    "                           , min_samples_split=2)"
   ]
  },
  {
   "cell_type": "code",
   "execution_count": null,
   "metadata": {},
   "outputs": [],
   "source": [
    "# training model\n",
    "\n",
    "with K.tf.device('/GPU:0'):\n",
    "    \n",
    "    print(\"step : model training\")\n",
    "    StartTime = datetime.now()\n",
    "    print(\"StartTime :\", StartTime)\n",
    "    \n",
    "    rf.fit(x_train,y_train)\n",
    "    \n",
    "    EndTime = datetime.now()\n",
    "    print(\"EndTime :\", EndTime)\n",
    "    print(\"end : model training\")  "
   ]
  },
  {
   "cell_type": "code",
   "execution_count": null,
   "metadata": {},
   "outputs": [],
   "source": [
    "# validating model\n",
    "\n",
    "rf_predict = rf.predict(x_test)\n",
    "mse = mean_squared_error(y_test, rf_predict)\n",
    "rmse = np.sqrt(mse) # mean_abolute_error()\n",
    "r2 = r2_score(y_test, rf_predict)\n",
    "print('MSE:', mse)\n",
    "print('RMSE:',rmse)\n",
    "print('R square:', r2)"
   ]
  },
  {
   "cell_type": "code",
   "execution_count": null,
   "metadata": {},
   "outputs": [],
   "source": [
    "sns.set_style('white')\n",
    "sns.set_context(\"talk\")\n",
    "\n",
    "# sns.scatterplot(test_y,y_score)\n",
    "plt.xlabel(\"Original\",size = 20)\n",
    "plt.ylabel(\"Predictions\",size = 20)\n",
    "plt.scatter(y_test, rf_predict, s=5)\n",
    "ident = [y_test.min(),y_test.max()]\n",
    "plt.plot(ident,ident,'--', color='black',linewidth=2)\n",
    "\n",
    "plt.show()"
   ]
  },
  {
   "cell_type": "code",
   "execution_count": null,
   "metadata": {},
   "outputs": [],
   "source": [
    "joblib.dump(xgb, modeldir+'/RF_regressor.pkl')"
   ]
  },
  {
   "cell_type": "markdown",
   "metadata": {},
   "source": [
    "# Ridge, Lasso"
   ]
  },
  {
   "cell_type": "code",
   "execution_count": null,
   "metadata": {},
   "outputs": [],
   "source": [
    "from sklearn.linear_model import Lasso\n",
    "lasso=Lasso(alpha=0.0004)"
   ]
  },
  {
   "cell_type": "code",
   "execution_count": null,
   "metadata": {},
   "outputs": [],
   "source": [
    "from sklearn.linear_model import Ridge\n",
    "ridge=Ridge(alpha=10)"
   ]
  },
  {
   "cell_type": "code",
   "execution_count": null,
   "metadata": {},
   "outputs": [],
   "source": [
    "lasso.fit(x_train,y_train)"
   ]
  },
  {
   "cell_type": "code",
   "execution_count": null,
   "metadata": {
    "scrolled": true
   },
   "outputs": [],
   "source": [
    "ridge.fit(x_train,y_train)"
   ]
  },
  {
   "cell_type": "code",
   "execution_count": null,
   "metadata": {},
   "outputs": [],
   "source": [
    "#검증(평가)\n",
    "\n",
    "lasso_predict = lasso.predict(x_test)\n",
    "lasso_mse = mean_squared_error(y_test, lasso_predict)\n",
    "lasso_rmse = np.sqrt(lasso_mse) # mean_abolute_error()\n",
    "lasso_r2 = r2_score(y_test, lasso_predict)\n",
    "print('MSE:', lasso_mse)\n",
    "print('RMSE:',lasso_rmse)\n",
    "print('R square:', lasso_r2)"
   ]
  },
  {
   "cell_type": "code",
   "execution_count": null,
   "metadata": {},
   "outputs": [],
   "source": [
    "#검증(평가)\n",
    "\n",
    "ridge_predict = ridge.predict(x_test)\n",
    "ridge_mse = mean_squared_error(y_test, ridge_predict)\n",
    "ridge_rmse = np.sqrt(ridge_mse) # mean_abolute_error()\n",
    "ridge_r2 = r2_score(y_test, ridge_predict)\n",
    "print('MSE:', ridge_mse)\n",
    "print('RMSE:',ridge_rmse)\n",
    "print('R square:', ridge_r2)"
   ]
  },
  {
   "cell_type": "code",
   "execution_count": null,
   "metadata": {},
   "outputs": [],
   "source": [
    "sns.set_style('white')\n",
    "sns.set_context(\"talk\")\n",
    "\n",
    "\n",
    "# sns.scatterplot(test_y,y_score)\n",
    "plt.xlabel(\"Original\",size = 20)\n",
    "plt.ylabel(\"Predictions\",size = 20)\n",
    "plt.scatter(y_test, lasso_predict, s=5)\n",
    "ident = [y_test.min(),y_test.max()]\n",
    "plt.plot(ident,ident,'--', color='black',linewidth=2)\n",
    "\n",
    "plt.show()"
   ]
  },
  {
   "cell_type": "code",
   "execution_count": null,
   "metadata": {},
   "outputs": [],
   "source": [
    "# save trained models\n",
    "\n",
    "import joblib\n",
    "\n",
    "joblib.dump(lasso, modeldir+'/lasso.pkl')\n",
    "joblib.dump(ridge, modeldir+'/ridge.pkl')"
   ]
  },
  {
   "cell_type": "code",
   "execution_count": null,
   "metadata": {},
   "outputs": [],
   "source": []
  },
  {
   "cell_type": "markdown",
   "metadata": {},
   "source": [
    "# XGBoost"
   ]
  },
  {
   "cell_type": "code",
   "execution_count": null,
   "metadata": {},
   "outputs": [],
   "source": [
    "from xgboost import XGBRegressor\n",
    "\n",
    "xgb = XGBRegressor(max_depth=8, min_child_weight= 0.001, gamma=0.01, learning_rate=0.1)"
   ]
  },
  {
   "cell_type": "code",
   "execution_count": null,
   "metadata": {},
   "outputs": [],
   "source": [
    "with K.tf.device('/GPU:0'):\n",
    "    \n",
    "    print(\"step : model training\")\n",
    "    StartTime = datetime.now()\n",
    "    print(\"StartTime :\", StartTime)\n",
    "    \n",
    "    xgb.fit(x_train,y_train)\n",
    "    \n",
    "    EndTime = datetime.now()\n",
    "    print(\"EndTime :\", EndTime)\n",
    "    print(\"end : model training\")  "
   ]
  },
  {
   "cell_type": "code",
   "execution_count": null,
   "metadata": {},
   "outputs": [],
   "source": [
    "# prediction performance validation\n",
    "\n",
    "xgb_predict = xgb.predict(x_test)\n",
    "mse = mean_squared_error(y_test, xgb_predict)\n",
    "rmse = np.sqrt(mse) # mean_abolute_error()\n",
    "r2 = r2_score(y_test, xgb_predict)\n",
    "print('MSE:', mse)\n",
    "print('RMSE:',rmse)\n",
    "print('R square:', r2)"
   ]
  },
  {
   "cell_type": "code",
   "execution_count": null,
   "metadata": {},
   "outputs": [],
   "source": [
    "sns.set_style('white')\n",
    "sns.set_context(\"talk\")\n",
    "\n",
    "plt.title(\"XGB prediction graph\")\n",
    "plt.xlabel(\"Original\",size = 20)\n",
    "plt.ylabel(\"Predictions\",size = 20)\n",
    "plt.scatter(y_test, xgb_predict, s=5)\n",
    "ident = [y_test.min(),y_test.max()]\n",
    "plt.plot(ident,ident,'--', color='black',linewidth=2)\n",
    "\n",
    "plt.show()"
   ]
  },
  {
   "cell_type": "code",
   "execution_count": null,
   "metadata": {},
   "outputs": [],
   "source": [
    "joblib.dump(xgb, modeldir+'/XGB.pkl')"
   ]
  },
  {
   "cell_type": "code",
   "execution_count": null,
   "metadata": {},
   "outputs": [],
   "source": []
  }
 ],
 "metadata": {
  "kernelspec": {
   "display_name": "Python 3",
   "language": "python",
   "name": "python3"
  },
  "language_info": {
   "codemirror_mode": {
    "name": "ipython",
    "version": 3
   },
   "file_extension": ".py",
   "mimetype": "text/x-python",
   "name": "python",
   "nbconvert_exporter": "python",
   "pygments_lexer": "ipython3",
   "version": "3.6.12"
  }
 },
 "nbformat": 4,
 "nbformat_minor": 4
}
