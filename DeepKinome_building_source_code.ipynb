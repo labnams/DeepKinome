{
 "cells": [
  {
   "cell_type": "code",
   "execution_count": null,
   "metadata": {},
   "outputs": [],
   "source": [
    "import os\n",
    "import sys\n",
    "from pandas import DataFrame\n",
    "from datetime import datetime\n",
    "import pandas as pd\n",
    "import numpy as np\n",
    "import statistics\n",
    "import random\n",
    "from tqdm.auto import tqdm\n",
    "\n",
    "import matplotlib\n",
    "from matplotlib import pyplot as plt\n",
    "import seaborn as sns\n",
    "\n",
    "import keras\n",
    "from keras.models import Sequential, Input, Model, load_model\n",
    "from keras.layers import Dense, Dropout, Flatten, Activation, Conv1D, MaxPooling1D, AveragePooling1D, GlobalAveragePooling1D\n",
    "from keras.layers.normalization import BatchNormalization\n",
    "from keras.layers.advanced_activations import LeakyReLU\n",
    "import keras.backend.tensorflow_backend as K\n",
    "from tensorflow.keras.callbacks import ModelCheckpoint, CSVLogger\n",
    "from keras.backend.tensorflow_backend import set_session\n",
    "from keras.utils.vis_utils import plot_model\n",
    "\n",
    "from scipy.stats import pearsonr\n",
    "from sklearn.metrics import r2_score, mean_squared_error, roc_curve, confusion_matrix, roc_auc_score"
   ]
  },
  {
   "cell_type": "code",
   "execution_count": null,
   "metadata": {},
   "outputs": [],
   "source": [
    "# setting work directory\n",
    "\n",
    "workdir = \"workdirectory\"  # set your work directory\n",
    "datadir = workdir + \"Data/\"\n",
    "rawdir = datadir + \"raw_data/\"\n",
    "resultdir = datadir + \"input_result/\"\n",
    "predictiondir = datadir + \"prediction_result/\"\n",
    "modeldir = workdir + \"model/\"\n",
    "\n",
    "\n",
    "today = datetime.today().strftime(\"%Y%m%d\")\n",
    "today"
   ]
  },
  {
   "cell_type": "code",
   "execution_count": null,
   "metadata": {
    "scrolled": true
   },
   "outputs": [],
   "source": [
    "from tensorflow.python.client import device_lib\n",
    "print(device_lib.list_local_devices())"
   ]
  },
  {
   "cell_type": "code",
   "execution_count": null,
   "metadata": {},
   "outputs": [],
   "source": [
    "# load whole dataset from npz\n",
    "train_data = np.load(resultdir + 'your train data name')\n",
    "val_data = np.load(resultdir + 'your validation data name')\n",
    "test_data = np.load(resultdir + 'your test data name')\n",
    "\n",
    "# check your data\n",
    "train_data.files, val_data.files, test_data.files"
   ]
  },
  {
   "cell_type": "code",
   "execution_count": null,
   "metadata": {},
   "outputs": [],
   "source": [
    "x_train, y_train = train_data['x'], train_data['y']\n",
    "x_val, y_val = val_data['x'], val_data['y']\n",
    "x_test, y_test = test_data['x'], test_data['y']\n",
    "\n",
    "# check your data\n",
    "x_train.shape, y_train.shape, x_test.shape, y_test.shape, x_val.shape, y_val.shape"
   ]
  },
  {
   "cell_type": "code",
   "execution_count": null,
   "metadata": {},
   "outputs": [],
   "source": [
    "# Reshape data shape\n",
    "\n",
    "x_train = x_train.reshape(x_train.shape[0], x_train.shape[1], 1)\n",
    "x_val = x_val.reshape(x_val.shape[0], x_val.shape[1], 1)"
   ]
  },
  {
   "cell_type": "code",
   "execution_count": null,
   "metadata": {},
   "outputs": [],
   "source": [
    "random.seed(2021)\n",
    "LR = 0.000001\n",
    "training_epochs = 200\n",
    "batch_size = 100"
   ]
  },
  {
   "cell_type": "code",
   "execution_count": null,
   "metadata": {},
   "outputs": [],
   "source": [
    "# setting rmse\n",
    "\n",
    "def rmse (y_true, y_pred):\n",
    "    return K.sqrt(K.mean(K.square(y_pred -y_true)))"
   ]
  },
  {
   "cell_type": "code",
   "execution_count": null,
   "metadata": {},
   "outputs": [],
   "source": [
    "with K.tf.device('/GPU:0'):\n",
    "    inputs = Input(shape=(11308,1),name='inputs')\n",
    "    x = Conv1D(96, kernel_size=11, strides=4, padding=\"same\")(inputs)\n",
    "    x = BatchNormalization()(x)\n",
    "    x = Activation('relu')(x)\n",
    "    x = Conv1D(96, kernel_size=5, strides=2, padding=\"same\")(x)\n",
    "    x = BatchNormalization()(x)\n",
    "    x = Activation('relu')(x)  \n",
    "    x = MaxPooling1D(pool_size=3, strides=2, padding=\"same\")(x)\n",
    "\n",
    "    x = Conv1D(96, kernel_size=3, strides=1, padding=\"same\")(x)\n",
    "    x = BatchNormalization()(x)\n",
    "    x = Activation('relu')(x)\n",
    "    x = Conv1D(96, kernel_size=3, strides=1, padding=\"same\")(x)\n",
    "    x = BatchNormalization()(x)\n",
    "    x = Activation('relu')(x)   \n",
    "    \n",
    "    x = Conv1D(256, kernel_size=3, strides=1, padding=\"same\")(x)\n",
    "    x = BatchNormalization()(x)\n",
    "    x = Activation('relu')(x)\n",
    "    x = Conv1D(256, kernel_size=3, strides=1, padding=\"same\")(x)\n",
    "    x = BatchNormalization()(x)\n",
    "    x = Activation('relu')(x)\n",
    "    x = Conv1D(256, kernel_size=3, strides=1, padding=\"same\")(x)\n",
    "    x = BatchNormalization()(x)\n",
    "    x = Activation('relu')(x)\n",
    "    x = Conv1D(256, kernel_size=3, strides=1, padding=\"same\")(x)\n",
    "    x = BatchNormalization()(x)\n",
    "    x = Activation('relu')(x)\n",
    "    x = Conv1D(256, kernel_size=3, strides=1, padding=\"same\")(x)\n",
    "    x = BatchNormalization()(x)\n",
    "    x = Activation('relu')(x)\n",
    "    x = Conv1D(256, kernel_size=3, strides=1, padding=\"same\")(x)\n",
    "    x = BatchNormalization()(x)\n",
    "    x = Activation('relu')(x)\n",
    "    \n",
    "    x = Conv1D(384, kernel_size=3, strides=1, padding=\"same\")(x)\n",
    "    x = BatchNormalization()(x)\n",
    "    x = Activation('relu')(x)\n",
    "    x = Conv1D(384, kernel_size=3, strides=1, padding=\"same\")(x)\n",
    "    x = BatchNormalization()(x)\n",
    "    x = Activation('relu')(x)\n",
    "    x = Conv1D(384, kernel_size=3, strides=1, padding=\"same\")(x)\n",
    "    x = BatchNormalization()(x)\n",
    "    x = Activation('relu')(x)\n",
    "    x = Conv1D(384, kernel_size=3, strides=1, padding=\"same\")(x)\n",
    "    x = BatchNormalization()(x)\n",
    "    x = Activation('relu')(x)\n",
    "    x = Conv1D(384, kernel_size=3, strides=1, padding=\"same\")(x)\n",
    "    x = BatchNormalization()(x)\n",
    "    x = Activation('relu')(x)\n",
    "    x = Conv1D(384, kernel_size=3, strides=1, padding=\"same\")(x)\n",
    "    x = BatchNormalization()(x)\n",
    "    x = Activation('relu')(x)\n",
    "    \n",
    "    x = Conv1D(256, kernel_size=3, strides=1, padding=\"same\")(x)\n",
    "    x = BatchNormalization()(x)\n",
    "    x = Activation('relu')(x)\n",
    "    x = Conv1D(256, kernel_size=3, strides=1, padding=\"same\")(x)\n",
    "    x = BatchNormalization()(x)\n",
    "    x = Activation('relu')(x)\n",
    "    x = Conv1D(256, kernel_size=3, strides=1, padding=\"same\")(x)\n",
    "    x = BatchNormalization()(x)\n",
    "    x = Activation('relu')(x)\n",
    "    x = Conv1D(256, kernel_size=3, strides=1, padding=\"same\")(x)\n",
    "    x = BatchNormalization()(x)\n",
    "    x = Activation('relu')(x)\n",
    "\n",
    "    x = AveragePooling1D(pool_size=7, strides=2, padding=\"same\")(x)\n",
    "    \n",
    "    x = Flatten()(x)\n",
    "\n",
    "    ########################## FC 3 ##########################################\n",
    "    x = Dense(units=4096) (x)\n",
    "    x = Activation('relu')(x)\n",
    "    x = Dense(units=2048) (x)\n",
    "    x = Activation('relu')(x)\n",
    "    x = Dense(units=1024) (x)\n",
    "    x = Activation('relu')(x)\n",
    "\n",
    "########################### Predictions ######################################    \n",
    "    predictions = Dense(1, activation='linear', name='predictions', kernel_initializer='he_normal')(x)"
   ]
  },
  {
   "cell_type": "code",
   "execution_count": null,
   "metadata": {
    "scrolled": true
   },
   "outputs": [],
   "source": [
    "\n",
    "########################### Model compile #####################################\n",
    "with K.tf.device('/GPU:0'):\n",
    "    model = Model(inputs=inputs, outputs=predictions, name=\"DeepKinome\" + today)\n",
    "    print(model.summary())\n",
    "    model.compile(optimizer = keras.optimizers.RMSprop(lr=LR), loss = rmse, metrics =[\"mse\"])\n",
    "########################### Model ######################################    \n",
    "    "
   ]
  },
  {
   "cell_type": "code",
   "execution_count": null,
   "metadata": {
    "scrolled": true
   },
   "outputs": [],
   "source": [
    "with K.tf.device('/GPU:0'):\n",
    "    \n",
    "    print(\"step : model training\")\n",
    "    StartTime = datetime.now()\n",
    "    print(\"StartTime :\", StartTime)\n",
    "    \n",
    "    history = model.fit(x_train, y_train, epochs=150, validation_data=(x_val, y_val), batch_size=32)\n",
    "    \n",
    "    EndTime = datetime.now()\n",
    "    print(\"EndTime :\", EndTime)\n",
    "    print(\"end : model training\")"
   ]
  },
  {
   "cell_type": "code",
   "execution_count": null,
   "metadata": {},
   "outputs": [],
   "source": [
    "# Check prediction result"
   ]
  },
  {
   "cell_type": "code",
   "execution_count": null,
   "metadata": {
    "scrolled": false
   },
   "outputs": [],
   "source": [
    "### RMSE plot\n",
    "plt.figure(figsize=(15,10))\n",
    "plt.title(\"RMSE\")\n",
    "plt.plot(history.history['loss'],\"r\", label = \"Tranning\")\n",
    "plt.plot(history.history['val_loss'], label = \"Validation\", color = 'dodgerblue')\n",
    "plt.xlabel(\"Epochs\")\n",
    "plt.ylabel(\"RMSE\")\n",
    "plt.legend(loc=2)"
   ]
  },
  {
   "cell_type": "code",
   "execution_count": null,
   "metadata": {},
   "outputs": [],
   "source": [
    "x_test = x_test.reshape(x_test.shape[0], x_test.shape[1], 1)\n",
    "\n",
    "pred_test = model.predict(x_test)\n",
    "\n",
    "test_rmse = np.sqrt(mean_squared_error(y_test, pred_test))\n",
    "test_r2 = r2_score(y_test, pred_test)\n",
    "print(\"test RMSE : \", test_rmse)\n",
    "print(\"test R2 : \", test_r2)"
   ]
  },
  {
   "cell_type": "code",
   "execution_count": null,
   "metadata": {},
   "outputs": [],
   "source": [
    "# sns.scatterplot(test_y,y_score)\n",
    "plt.xlabel(\"Original\",size = 20)\n",
    "plt.ylabel(\"Predictions\",size = 20)\n",
    "plt.scatter(y_test, pred_test, s=5)\n",
    "ident = [y_test.min(),y_test.max()]\n",
    "plt.plot(ident,ident,'--', color='black',linewidth=2)\n",
    "\n",
    "plt.show()"
   ]
  },
  {
   "cell_type": "code",
   "execution_count": null,
   "metadata": {},
   "outputs": [],
   "source": []
  },
  {
   "cell_type": "code",
   "execution_count": null,
   "metadata": {},
   "outputs": [],
   "source": []
  },
  {
   "cell_type": "code",
   "execution_count": null,
   "metadata": {},
   "outputs": [],
   "source": []
  }
 ],
 "metadata": {
  "kernelspec": {
   "display_name": "Python 3",
   "language": "python",
   "name": "python3"
  },
  "language_info": {
   "codemirror_mode": {
    "name": "ipython",
    "version": 3
   },
   "file_extension": ".py",
   "mimetype": "text/x-python",
   "name": "python",
   "nbconvert_exporter": "python",
   "pygments_lexer": "ipython3",
   "version": "3.6.12"
  }
 },
 "nbformat": 4,
 "nbformat_minor": 4
}
